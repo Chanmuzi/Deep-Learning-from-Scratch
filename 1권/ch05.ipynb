{
 "cells": [
  {
   "cell_type": "markdown",
   "metadata": {},
   "source": [
    "## 단순한 계층 구현하기"
   ]
  },
  {
   "cell_type": "markdown",
   "metadata": {},
   "source": [
    "곱셈 계층"
   ]
  },
  {
   "cell_type": "code",
   "execution_count": 7,
   "metadata": {},
   "outputs": [],
   "source": [
    "class MulLayer:\n",
    "    def __init__(self):\n",
    "        self.x = None\n",
    "        self.y = None\n",
    "    \n",
    "    def forward(self, x, y):\n",
    "        self.x = x\n",
    "        self.y = y\n",
    "        out = x * y\n",
    "\n",
    "        return out\n",
    "    \n",
    "    def backward(self, dout):\n",
    "        dx = dout * self.y # x와 y를 바꾼다\n",
    "        dy = dout * self.x\n",
    "        \n",
    "        return dx, dy"
   ]
  },
  {
   "cell_type": "code",
   "execution_count": 8,
   "metadata": {},
   "outputs": [
    {
     "name": "stdout",
     "output_type": "stream",
     "text": [
      "220.00000000000003\n"
     ]
    }
   ],
   "source": [
    "apple = 100\n",
    "apple_num = 2\n",
    "tax = 1.1\n",
    "\n",
    "mul_apple_layer = MulLayer()\n",
    "mul_tax_layer = MulLayer()\n",
    "\n",
    "apple_price = mul_apple_layer.forward(apple, apple_num)\n",
    "price = mul_tax_layer.forward(apple_price, tax) ## 사실 이 부분을 `mul_apple_layer`로 구해도 전혀 상관이 없다는 거..\n",
    "\n",
    "print(price)"
   ]
  },
  {
   "cell_type": "code",
   "execution_count": 9,
   "metadata": {},
   "outputs": [
    {
     "name": "stdout",
     "output_type": "stream",
     "text": [
      "2.2 110.00000000000001 200\n"
     ]
    }
   ],
   "source": [
    "dprice = 1\n",
    "dapple_price, dtax = mul_tax_layer.backward(dprice)\n",
    "dapple, dapple_num = mul_apple_layer.backward(dapple_price)\n",
    "\n",
    "print(dapple, dapple_num, dtax)"
   ]
  },
  {
   "cell_type": "markdown",
   "metadata": {},
   "source": [
    "덧셈 계층"
   ]
  },
  {
   "cell_type": "code",
   "execution_count": 10,
   "metadata": {},
   "outputs": [],
   "source": [
    "class AddLayer:\n",
    "    def __init__(self):\n",
    "        pass\n",
    "\n",
    "    def forward(self, x, y):\n",
    "        out = x + y\n",
    "        return out\n",
    "    \n",
    "    def backward(self, dout):\n",
    "        dx = dout * 1 ## 위 forward의 식을 미분하면 자기 자신의 계수가 나오는데 여기서는 1임\n",
    "        dy = dout * 1\n",
    "        return dx, dy"
   ]
  },
  {
   "cell_type": "code",
   "execution_count": 11,
   "metadata": {},
   "outputs": [
    {
     "name": "stdout",
     "output_type": "stream",
     "text": [
      "715.0000000000001\n",
      "110.00000000000001 2.2 3.3000000000000003 165.0 650\n"
     ]
    }
   ],
   "source": [
    "# 변수 초기화\n",
    "apple = 100\n",
    "apple_num = 2\n",
    "orange = 150\n",
    "orange_num = 3\n",
    "tax = 1.1\n",
    "\n",
    "# 각 계층 생성\n",
    "mul_apple_layer = MulLayer()\n",
    "mul_orange_layer = MulLayer()\n",
    "add_apple_orange_layer = AddLayer()\n",
    "mul_tax_layer = MulLayer()\n",
    "\n",
    "# forward\n",
    "apple_price = mul_apple_layer.forward(apple, apple_num)\n",
    "orange_price = mul_orange_layer.forward(orange, orange_num)\n",
    "all_price = add_apple_orange_layer.forward(apple_price, orange_price)\n",
    "price = mul_tax_layer.forward(all_price, tax)\n",
    "\n",
    "# backward\n",
    "dprice = 1\n",
    "dall_price, dtax = mul_tax_layer.backward(dprice)\n",
    "dapple_price, dorange_price = add_apple_orange_layer.backward(dall_price)\n",
    "dapple, dapple_num = mul_apple_layer.backward(dapple_price)\n",
    "dorange, dorange_num = mul_orange_layer.backward(dorange_price)\n",
    "\n",
    "print(price)\n",
    "print(dapple_num, dapple, dorange, dorange_num, dtax)"
   ]
  },
  {
   "cell_type": "markdown",
   "metadata": {},
   "source": [
    "## 활성화 함수 계층 구현하기"
   ]
  },
  {
   "cell_type": "markdown",
   "metadata": {},
   "source": [
    "ReLU"
   ]
  },
  {
   "cell_type": "code",
   "execution_count": 12,
   "metadata": {},
   "outputs": [],
   "source": [
    "class ReLU:\n",
    "    def __init__(self):\n",
    "        self.mask = None\n",
    "    \n",
    "    def forward(self, x):\n",
    "        self.mask = (x <= 0)\n",
    "        out = x.copy() ## 원본 arrary의 값이 변경되지 않을 수 있도록. 그래야 나중에 미분을 할 수 있음\n",
    "        out[self.mask] = 0\n",
    "        \n",
    "        return out\n",
    "    \n",
    "    def backward(self, dout):\n",
    "        dout[self.mask] = 0\n",
    "        dx = dout ## 동일한 객체를 참조. 따라서 코드 가독성을 높이기 위한 작업으로 이해할 수 있음\n",
    "\n",
    "        return dx"
   ]
  },
  {
   "cell_type": "code",
   "execution_count": 13,
   "metadata": {},
   "outputs": [
    {
     "name": "stdout",
     "output_type": "stream",
     "text": [
      "[[ 1.  -0.5]\n",
      " [-2.   3. ]]\n",
      "[[False  True]\n",
      " [ True False]]\n"
     ]
    }
   ],
   "source": [
    "import numpy as np\n",
    "\n",
    "x = np.array([[1.0, -0.5], [-2.0, 3.0]])\n",
    "print(x)\n",
    "\n",
    "mask = (x <= 0)\n",
    "print(mask) ## 따라서 array의 값 중에서 0 이하인 값들을 전부 0으로 바꿀 수 있게 됨"
   ]
  },
  {
   "cell_type": "markdown",
   "metadata": {},
   "source": [
    "Sigmoid"
   ]
  },
  {
   "cell_type": "code",
   "execution_count": 14,
   "metadata": {},
   "outputs": [],
   "source": [
    "class Sigmoid:\n",
    "    def __init__(self):\n",
    "        self.out = None\n",
    "\n",
    "    def forward(self, x):\n",
    "        out = 1 / (1 + np.exp(-x))\n",
    "        self.out = out ## forward의 출력을 self.out에 저장해두기\n",
    "\n",
    "        return out\n",
    "    \n",
    "    def backward(self, dout):\n",
    "        dx = dout * (1.0 - self.out) * self.out ## forward의 출력을 이용하여 backward 계산하기\n",
    "\n",
    "        return dx"
   ]
  },
  {
   "cell_type": "markdown",
   "metadata": {},
   "source": [
    "## Affine/Softmax 계층 구현하기"
   ]
  },
  {
   "cell_type": "markdown",
   "metadata": {},
   "source": [
    "Affine 계층"
   ]
  },
  {
   "cell_type": "code",
   "execution_count": 15,
   "metadata": {},
   "outputs": [
    {
     "name": "stdout",
     "output_type": "stream",
     "text": [
      "(2,)\n",
      "(2, 3)\n",
      "(3,)\n",
      "[0.68107643 0.84994413 0.30042709]\n"
     ]
    }
   ],
   "source": [
    "X = np.random.rand(2)\n",
    "W = np.random.rand(2, 3)\n",
    "B = np.random.rand(3)\n",
    "\n",
    "print(X.shape)\n",
    "print(W.shape)\n",
    "print(B.shape)\n",
    "\n",
    "Y = np.dot(X, W) + B\n",
    "print(Y)"
   ]
  },
  {
   "cell_type": "markdown",
   "metadata": {},
   "source": [
    "배치용 Affine 계층"
   ]
  },
  {
   "cell_type": "code",
   "execution_count": 16,
   "metadata": {},
   "outputs": [
    {
     "name": "stdout",
     "output_type": "stream",
     "text": [
      "[[ 0  0  0]\n",
      " [10 10 10]]\n",
      "[[ 1  2  3]\n",
      " [11 12 13]]\n"
     ]
    }
   ],
   "source": [
    "X_dot_W = np.array([[0, 0, 0], [10, 10, 10]])\n",
    "B = np.array([1,2,3])\n",
    "\n",
    "print(X_dot_W)\n",
    "print(X_dot_W + B) ## 편향은 배치 내 각 sample(data)에 공통적으로 더해진다"
   ]
  },
  {
   "cell_type": "code",
   "execution_count": 17,
   "metadata": {},
   "outputs": [
    {
     "name": "stdout",
     "output_type": "stream",
     "text": [
      "[[1 2 3]\n",
      " [4 5 6]]\n",
      "[5 7 9]\n"
     ]
    }
   ],
   "source": [
    "dY = np.array([[1,2,3], [4,5,6]])\n",
    "print(dY)\n",
    "\n",
    "dB = np.sum(dY, axis=0) ## axis=0 이어야 행 단위로 합 연산이 가능\n",
    "print(dB)"
   ]
  },
  {
   "cell_type": "code",
   "execution_count": 18,
   "metadata": {},
   "outputs": [],
   "source": [
    "class Affine:\n",
    "    def __init__(self, W, b):\n",
    "        self.W = W\n",
    "        self.b = b\n",
    "        self.x = None\n",
    "        self.dW = None\n",
    "        self.db = None\n",
    "\n",
    "    def forward(self, x):\n",
    "        self.x = x\n",
    "        out = np.dot(x, self.W) + self.b\n",
    "\n",
    "        return out\n",
    "    \n",
    "    def backward(self, dout):\n",
    "        ## 뺄셈이 가능하도록 원래 변수와의 차원을 맞춰서 미분 계수를 구해야 함\n",
    "        dx = np.dot(dout, self.W.T)\n",
    "        self.dW = np.dot(self.x.T, dout) ## 반환하지 않는 변수를 선언하는 이유는 무엇일까?\n",
    "        self.db = np.sum(dout, axis=0)\n",
    "\n",
    "        return dx"
   ]
  },
  {
   "cell_type": "markdown",
   "metadata": {},
   "source": [
    "Softmax-with-Loss 계층"
   ]
  },
  {
   "cell_type": "code",
   "execution_count": 19,
   "metadata": {},
   "outputs": [],
   "source": [
    "def softmax(x):\n",
    "    if x.ndim == 2:\n",
    "        x = x.T\n",
    "        x = x - np.max(x, axis=0)\n",
    "        y = np.exp(x) / np.sum(np.exp(x), axis=0)\n",
    "        return y.T\n",
    "    x = x - np.max(x)\n",
    "    return np.exp(x) / np.sum(np.exp(x))\n",
    "    "
   ]
  },
  {
   "cell_type": "code",
   "execution_count": 20,
   "metadata": {},
   "outputs": [],
   "source": [
    "def cross_entropy_error(y, t):\n",
    "    if y.ndim == 1:\n",
    "        y = y.reshape(1, y.size)\n",
    "        t = t.reshape(1, t.size)\n",
    "\n",
    "    if y.size == t.size:\n",
    "        t = t.argmax(axis=1)\n",
    "\n",
    "    batch_size = y.shape[0]\n",
    "    return -np.sum(np.log(y[np.arange(batch_size), t] + 1e-7)) / batch_size"
   ]
  },
  {
   "cell_type": "code",
   "execution_count": 21,
   "metadata": {},
   "outputs": [],
   "source": [
    "class SoftmaxWithLoss:\n",
    "    def __init__(self):\n",
    "        self.loss = None\n",
    "        self.y = None\n",
    "        self.t = None\n",
    "    \n",
    "    def forward(self, x, t):\n",
    "        self.t = t\n",
    "        self.y = softmax(x)\n",
    "        self.loss = cross_entropy_error(self.y, self.t)\n",
    "        return self.loss\n",
    "    \n",
    "    def backward(self, dout=1):\n",
    "        batch_size = self.t.shape[0]\n",
    "        dx = (self.y - self.t) / batch_size\n",
    "        return dx"
   ]
  },
  {
   "cell_type": "markdown",
   "metadata": {},
   "source": [
    "## 오차역전파법 구현하기"
   ]
  },
  {
   "cell_type": "markdown",
   "metadata": {},
   "source": [
    "오차역전파법을 이용한 신경망 구현하기"
   ]
  },
  {
   "cell_type": "code",
   "execution_count": 22,
   "metadata": {},
   "outputs": [],
   "source": [
    "from collections import OrderedDict"
   ]
  },
  {
   "cell_type": "code",
   "execution_count": 23,
   "metadata": {},
   "outputs": [],
   "source": [
    "def numerical_gradient(f, x):\n",
    "    h = 1e-4\n",
    "    grad = np.zeros_like(x)\n",
    "    \n",
    "    it = np.nditer(x, flags=['multi_index'], op_flags=['readwrite'])\n",
    "    while not it.finished:\n",
    "        idx = it.multi_index\n",
    "        tmp_val = x[idx]\n",
    "        x[idx] = float(tmp_val) + h\n",
    "        fxh1 = f(x)\n",
    "\n",
    "        x[idx] = tmp_val - h\n",
    "        fxh2 = f(x)\n",
    "\n",
    "        grad[idx] = (fxh1-fxh2) / (2*h)\n",
    "        x[idx] = tmp_val\n",
    "        it.iternext()\n",
    "\n",
    "    return grad"
   ]
  },
  {
   "cell_type": "code",
   "execution_count": 24,
   "metadata": {},
   "outputs": [],
   "source": [
    "class TwoLayerNet:\n",
    "    def __init__(self, input_size, hidden_size, output_size, weight_init_std=0.01):\n",
    "        self.params = {}\n",
    "        self.params['W1'] = weight_init_std * np.random.randn(input_size, hidden_size)\n",
    "        self.params['b1'] = np.zeros(hidden_size) ## 어차피 0이므로 초기화 가중치를 곱할 필요가 없음\n",
    "        self.params['W2'] = weight_init_std * np.random.randn(hidden_size, output_size)\n",
    "        self.params['b2'] = np.zeros(output_size)\n",
    "\n",
    "        self.layers = OrderedDict()\n",
    "        self.layers['Affine1'] = Affine(self.params['W1'], self.params['b1'])\n",
    "        self.layers['Relu1'] = ReLU()\n",
    "        self.layers['Affine2'] = Affine(self.params['W2'], self.params['b2'])\n",
    "        \n",
    "        self.lastLayer = SoftmaxWithLoss()\n",
    "\n",
    "    def predict(self, x):\n",
    "        for layer in self.layers.values():\n",
    "            x = layer.forward(x)\n",
    "        return x\n",
    "    \n",
    "    def loss(self, x, t):\n",
    "        y = self.predict(x)\n",
    "        return self.lastLayer.forward(y, t)\n",
    "    \n",
    "    def accuracy(self, x, t):\n",
    "        y = self.predict(x)\n",
    "        y = np.argmax(y, axis=1)\n",
    "        if t.ndim != 1: ## 원핫 벡터인 경우 값 하나로 변경해주는 과정\n",
    "            t = np.argmax(t, axis=1)\n",
    "        \n",
    "        accuracy = np.sum(y == t) / float(x.shape[0])\n",
    "        return accuracy\n",
    "    \n",
    "    def numerical_gradient(self, x, t):\n",
    "        loss_W = lambda W: self.loss(x, t)\n",
    "\n",
    "        grads = {}\n",
    "        grads['W1'] = numerical_gradient(loss_W, self.params['W1'])\n",
    "        grads['b1'] = numerical_gradient(loss_W, self.params['b1'])\n",
    "        grads['W2'] = numerical_gradient(loss_W, self.params['W2'])\n",
    "        grads['b2'] = numerical_gradient(loss_W, self.params['b2'])\n",
    "        return grads\n",
    "    \n",
    "    def gradient(self, x, t):\n",
    "        self.loss(x, t)\n",
    "\n",
    "        dout = 1\n",
    "        dout = self.lastLayer.backward(dout)\n",
    "\n",
    "        layers = list(self.layers.values())\n",
    "        layers.reverse()\n",
    "        for layer in layers:\n",
    "            dout = layer.backward(dout)\n",
    "        \n",
    "        grads = {}\n",
    "        grads['W1'] = self.layers['Affine1'].dW\n",
    "        grads['b1'] = self.layers['Affine1'].db\n",
    "        grads['W2'] = self.layers['Affine2'].dW\n",
    "        grads['b2'] = self.layers['Affine2'].db\n",
    "\n",
    "        return grads"
   ]
  },
  {
   "cell_type": "markdown",
   "metadata": {},
   "source": [
    "오차역전파법으로 구한 기울기 검증하기"
   ]
  },
  {
   "cell_type": "code",
   "execution_count": 26,
   "metadata": {},
   "outputs": [
    {
     "name": "stdout",
     "output_type": "stream",
     "text": [
      "W1:3.1089247641136206e-06\n",
      "b1:2.326411031679048e-05\n",
      "W2:6.435266712925808e-09\n",
      "b2:1.4059237589403306e-07\n"
     ]
    }
   ],
   "source": [
    "## 여기에 나타난 오차값은 실행 시마다 달라짐\n",
    "from dataset.mnist import load_mnist\n",
    "\n",
    "(x_train, t_train), (x_test, t_test) = load_mnist(normalize=True, one_hot_label=True)\n",
    "\n",
    "network = TwoLayerNet(input_size=784, hidden_size=50, output_size=10)\n",
    "\n",
    "x_batch = x_train[:3]\n",
    "t_batch = t_train[:3]\n",
    "\n",
    "grad_numerical = network.numerical_gradient(x_batch, t_batch)\n",
    "grad_backprop = network.gradient(x_batch, t_batch)\n",
    "\n",
    "for key in grad_numerical.keys():\n",
    "    diff = np.average(np.abs(grad_backprop[key] - grad_numerical[key]))\n",
    "    print(key + \":\" + str(diff))"
   ]
  },
  {
   "cell_type": "markdown",
   "metadata": {},
   "source": [
    "오차역전파법을 사용한 학습 구현하기"
   ]
  },
  {
   "cell_type": "code",
   "execution_count": 68,
   "metadata": {},
   "outputs": [
    {
     "data": {
      "application/vnd.jupyter.widget-view+json": {
       "model_id": "427e0f225afe4da6ae2beb3e6d5e82a2",
       "version_major": 2,
       "version_minor": 0
      },
      "text/plain": [
       "  0%|          | 0/20000 [00:00<?, ?it/s]"
      ]
     },
     "metadata": {},
     "output_type": "display_data"
    },
    {
     "name": "stdout",
     "output_type": "stream",
     "text": [
      "0th iter - train accuracy: 0.101%, test_accuracy: 0.094%\n",
      "600th iter - train accuracy: 0.906%, test_accuracy: 0.908%\n",
      "1200th iter - train accuracy: 0.922%, test_accuracy: 0.924%\n",
      "1800th iter - train accuracy: 0.934%, test_accuracy: 0.933%\n",
      "2400th iter - train accuracy: 0.944%, test_accuracy: 0.943%\n",
      "3000th iter - train accuracy: 0.950%, test_accuracy: 0.949%\n",
      "3600th iter - train accuracy: 0.953%, test_accuracy: 0.951%\n",
      "4200th iter - train accuracy: 0.959%, test_accuracy: 0.956%\n",
      "4800th iter - train accuracy: 0.962%, test_accuracy: 0.960%\n",
      "5400th iter - train accuracy: 0.965%, test_accuracy: 0.962%\n",
      "6000th iter - train accuracy: 0.969%, test_accuracy: 0.963%\n",
      "6600th iter - train accuracy: 0.971%, test_accuracy: 0.963%\n",
      "7200th iter - train accuracy: 0.973%, test_accuracy: 0.966%\n",
      "7800th iter - train accuracy: 0.973%, test_accuracy: 0.966%\n",
      "8400th iter - train accuracy: 0.975%, test_accuracy: 0.967%\n",
      "9000th iter - train accuracy: 0.977%, test_accuracy: 0.969%\n",
      "9600th iter - train accuracy: 0.976%, test_accuracy: 0.966%\n",
      "10200th iter - train accuracy: 0.979%, test_accuracy: 0.968%\n",
      "10800th iter - train accuracy: 0.980%, test_accuracy: 0.970%\n",
      "11400th iter - train accuracy: 0.980%, test_accuracy: 0.970%\n",
      "12000th iter - train accuracy: 0.980%, test_accuracy: 0.969%\n",
      "12600th iter - train accuracy: 0.982%, test_accuracy: 0.970%\n",
      "13200th iter - train accuracy: 0.983%, test_accuracy: 0.971%\n",
      "13800th iter - train accuracy: 0.983%, test_accuracy: 0.970%\n",
      "14400th iter - train accuracy: 0.984%, test_accuracy: 0.970%\n",
      "15000th iter - train accuracy: 0.985%, test_accuracy: 0.972%\n",
      "15600th iter - train accuracy: 0.986%, test_accuracy: 0.971%\n",
      "16200th iter - train accuracy: 0.986%, test_accuracy: 0.973%\n",
      "16800th iter - train accuracy: 0.988%, test_accuracy: 0.971%\n",
      "17400th iter - train accuracy: 0.988%, test_accuracy: 0.972%\n",
      "18000th iter - train accuracy: 0.987%, test_accuracy: 0.972%\n",
      "18600th iter - train accuracy: 0.989%, test_accuracy: 0.972%\n",
      "19200th iter - train accuracy: 0.988%, test_accuracy: 0.972%\n",
      "19800th iter - train accuracy: 0.989%, test_accuracy: 0.971%\n"
     ]
    }
   ],
   "source": [
    "from dataset.mnist import load_mnist\n",
    "from tqdm.auto import tqdm\n",
    "## 학습 시간이 무척 짧은 것을 알 수 있다.\n",
    "\n",
    "(x_train, t_train), (x_test, t_test) = load_mnist(normalize=True, one_hot_label=True)\n",
    "\n",
    "network = TwoLayerNet(input_size=784, hidden_size=50, output_size=10)\n",
    "\n",
    "iter_nums = 20000\n",
    "train_size = x_train.shape[0]\n",
    "batch_size = 100\n",
    "learning_rate = 0.1\n",
    "\n",
    "train_loss_list = []\n",
    "train_acc_list = []\n",
    "test_acc_list = []\n",
    "\n",
    "iter_per_epoch = max(train_size/batch_size, 1)\n",
    "\n",
    "for i in tqdm(range(iter_nums)):\n",
    "    batch_mask = np.random.choice(train_size, batch_size)\n",
    "    x_batch = x_train[batch_mask]\n",
    "    t_batch = t_train[batch_mask]\n",
    "\n",
    "    grad = network.gradient(x_batch, t_batch)\n",
    "\n",
    "    for key in ('W1', 'b1', 'W2', 'b2'):\n",
    "        network.params[key] -= learning_rate * grad[key]\n",
    "    \n",
    "    loss = network.loss(x_batch, t_batch)\n",
    "    train_loss_list.append(loss)\n",
    "\n",
    "    if i % iter_per_epoch == 0:\n",
    "        train_acc = network.accuracy(x_train, t_train)\n",
    "        test_acc = network.accuracy(x_test, t_test)\n",
    "        train_acc_list.append(train_acc)\n",
    "        test_acc_list.append(test_acc)\n",
    "        print(f\"{i}th iter - train accuracy: {train_acc:.3f}%, test_accuracy: {test_acc:.3f}%\")"
   ]
  },
  {
   "cell_type": "code",
   "execution_count": 69,
   "metadata": {},
   "outputs": [
    {
     "data": {
      "application/vnd.jupyter.widget-view+json": {
       "model_id": "7a70157ae81f46848ec77eac7ed5da75",
       "version_major": 2,
       "version_minor": 0
      },
      "text/plain": [
       "  0%|          | 0/20000 [00:00<?, ?it/s]"
      ]
     },
     "metadata": {},
     "output_type": "display_data"
    },
    {
     "name": "stdout",
     "output_type": "stream",
     "text": [
      "0th iter - train accuracy: 0.125%, test_accuracy: 0.129%\n",
      "600th iter - train accuracy: 0.905%, test_accuracy: 0.906%\n",
      "1200th iter - train accuracy: 0.923%, test_accuracy: 0.925%\n",
      "1800th iter - train accuracy: 0.936%, test_accuracy: 0.936%\n",
      "2400th iter - train accuracy: 0.948%, test_accuracy: 0.944%\n",
      "3000th iter - train accuracy: 0.954%, test_accuracy: 0.952%\n",
      "3600th iter - train accuracy: 0.960%, test_accuracy: 0.955%\n",
      "4200th iter - train accuracy: 0.965%, test_accuracy: 0.960%\n",
      "4800th iter - train accuracy: 0.966%, test_accuracy: 0.963%\n",
      "5400th iter - train accuracy: 0.970%, test_accuracy: 0.966%\n",
      "6000th iter - train accuracy: 0.973%, test_accuracy: 0.967%\n",
      "6600th iter - train accuracy: 0.974%, test_accuracy: 0.967%\n",
      "7200th iter - train accuracy: 0.976%, test_accuracy: 0.970%\n",
      "7800th iter - train accuracy: 0.978%, test_accuracy: 0.971%\n",
      "8400th iter - train accuracy: 0.979%, test_accuracy: 0.970%\n",
      "9000th iter - train accuracy: 0.980%, test_accuracy: 0.972%\n",
      "9600th iter - train accuracy: 0.980%, test_accuracy: 0.972%\n",
      "10200th iter - train accuracy: 0.983%, test_accuracy: 0.973%\n",
      "10800th iter - train accuracy: 0.983%, test_accuracy: 0.973%\n",
      "11400th iter - train accuracy: 0.983%, test_accuracy: 0.974%\n",
      "12000th iter - train accuracy: 0.984%, test_accuracy: 0.973%\n",
      "12600th iter - train accuracy: 0.986%, test_accuracy: 0.975%\n",
      "13200th iter - train accuracy: 0.986%, test_accuracy: 0.974%\n",
      "13800th iter - train accuracy: 0.987%, test_accuracy: 0.974%\n",
      "14400th iter - train accuracy: 0.987%, test_accuracy: 0.975%\n",
      "15000th iter - train accuracy: 0.988%, test_accuracy: 0.976%\n",
      "15600th iter - train accuracy: 0.989%, test_accuracy: 0.976%\n",
      "16200th iter - train accuracy: 0.989%, test_accuracy: 0.975%\n",
      "16800th iter - train accuracy: 0.990%, test_accuracy: 0.975%\n",
      "17400th iter - train accuracy: 0.991%, test_accuracy: 0.976%\n",
      "18000th iter - train accuracy: 0.991%, test_accuracy: 0.975%\n",
      "18600th iter - train accuracy: 0.991%, test_accuracy: 0.976%\n",
      "19200th iter - train accuracy: 0.992%, test_accuracy: 0.976%\n",
      "19800th iter - train accuracy: 0.992%, test_accuracy: 0.977%\n"
     ]
    }
   ],
   "source": [
    "from dataset.mnist import load_mnist\n",
    "from tqdm.auto import tqdm\n",
    "## 학습 시간이 무척 짧은 것을 알 수 있다.\n",
    "\n",
    "(x_train, t_train), (x_test, t_test) = load_mnist(normalize=True, one_hot_label=True)\n",
    "\n",
    "network = TwoLayerNet(input_size=784, hidden_size=70, output_size=10)\n",
    "\n",
    "iter_nums = 20000\n",
    "train_size = x_train.shape[0]\n",
    "batch_size = 100\n",
    "learning_rate = 0.1\n",
    "\n",
    "train_loss_list = []\n",
    "train_acc_list = []\n",
    "test_acc_list_70 = []\n",
    "\n",
    "iter_per_epoch = max(train_size/batch_size, 1)\n",
    "\n",
    "for i in tqdm(range(iter_nums)):\n",
    "    batch_mask = np.random.choice(train_size, batch_size)\n",
    "    x_batch = x_train[batch_mask]\n",
    "    t_batch = t_train[batch_mask]\n",
    "\n",
    "    grad = network.gradient(x_batch, t_batch)\n",
    "\n",
    "    for key in ('W1', 'b1', 'W2', 'b2'):\n",
    "        network.params[key] -= learning_rate * grad[key]\n",
    "    \n",
    "    loss = network.loss(x_batch, t_batch)\n",
    "    train_loss_list.append(loss)\n",
    "\n",
    "    if i % iter_per_epoch == 0:\n",
    "        train_acc = network.accuracy(x_train, t_train)\n",
    "        test_acc = network.accuracy(x_test, t_test)\n",
    "        train_acc_list.append(train_acc)\n",
    "        test_acc_list_70.append(test_acc)\n",
    "        print(f\"{i}th iter - train accuracy: {train_acc:.3f}%, test_accuracy: {test_acc:.3f}%\")"
   ]
  },
  {
   "cell_type": "code",
   "execution_count": 70,
   "metadata": {},
   "outputs": [
    {
     "data": {
      "application/vnd.jupyter.widget-view+json": {
       "model_id": "4c36f348b86b4a2d846a90f6ed9bf0e6",
       "version_major": 2,
       "version_minor": 0
      },
      "text/plain": [
       "  0%|          | 0/20000 [00:00<?, ?it/s]"
      ]
     },
     "metadata": {},
     "output_type": "display_data"
    },
    {
     "name": "stdout",
     "output_type": "stream",
     "text": [
      "0th iter - train accuracy: 0.112%, test_accuracy: 0.108%\n",
      "600th iter - train accuracy: 0.905%, test_accuracy: 0.909%\n",
      "1200th iter - train accuracy: 0.926%, test_accuracy: 0.930%\n",
      "1800th iter - train accuracy: 0.941%, test_accuracy: 0.940%\n",
      "2400th iter - train accuracy: 0.950%, test_accuracy: 0.949%\n",
      "3000th iter - train accuracy: 0.957%, test_accuracy: 0.955%\n",
      "3600th iter - train accuracy: 0.962%, test_accuracy: 0.958%\n",
      "4200th iter - train accuracy: 0.966%, test_accuracy: 0.962%\n",
      "4800th iter - train accuracy: 0.969%, test_accuracy: 0.963%\n",
      "5400th iter - train accuracy: 0.972%, test_accuracy: 0.967%\n",
      "6000th iter - train accuracy: 0.974%, test_accuracy: 0.968%\n",
      "6600th iter - train accuracy: 0.976%, test_accuracy: 0.970%\n",
      "7200th iter - train accuracy: 0.978%, test_accuracy: 0.970%\n",
      "7800th iter - train accuracy: 0.978%, test_accuracy: 0.971%\n",
      "8400th iter - train accuracy: 0.981%, test_accuracy: 0.974%\n",
      "9000th iter - train accuracy: 0.982%, test_accuracy: 0.974%\n",
      "9600th iter - train accuracy: 0.984%, test_accuracy: 0.974%\n",
      "10200th iter - train accuracy: 0.984%, test_accuracy: 0.974%\n",
      "10800th iter - train accuracy: 0.985%, test_accuracy: 0.974%\n",
      "11400th iter - train accuracy: 0.987%, test_accuracy: 0.975%\n",
      "12000th iter - train accuracy: 0.986%, test_accuracy: 0.974%\n",
      "12600th iter - train accuracy: 0.988%, test_accuracy: 0.976%\n",
      "13200th iter - train accuracy: 0.989%, test_accuracy: 0.977%\n",
      "13800th iter - train accuracy: 0.988%, test_accuracy: 0.975%\n",
      "14400th iter - train accuracy: 0.989%, test_accuracy: 0.976%\n",
      "15000th iter - train accuracy: 0.990%, test_accuracy: 0.976%\n",
      "15600th iter - train accuracy: 0.991%, test_accuracy: 0.977%\n",
      "16200th iter - train accuracy: 0.991%, test_accuracy: 0.977%\n",
      "16800th iter - train accuracy: 0.991%, test_accuracy: 0.978%\n",
      "17400th iter - train accuracy: 0.991%, test_accuracy: 0.976%\n",
      "18000th iter - train accuracy: 0.993%, test_accuracy: 0.977%\n",
      "18600th iter - train accuracy: 0.993%, test_accuracy: 0.977%\n",
      "19200th iter - train accuracy: 0.994%, test_accuracy: 0.977%\n",
      "19800th iter - train accuracy: 0.994%, test_accuracy: 0.977%\n"
     ]
    }
   ],
   "source": [
    "from dataset.mnist import load_mnist\n",
    "from tqdm.auto import tqdm\n",
    "## 학습 시간이 무척 짧은 것을 알 수 있다.\n",
    "\n",
    "(x_train, t_train), (x_test, t_test) = load_mnist(normalize=True, one_hot_label=True)\n",
    "\n",
    "network = TwoLayerNet(input_size=784, hidden_size=100, output_size=10)\n",
    "\n",
    "iter_nums = 20000\n",
    "train_size = x_train.shape[0]\n",
    "batch_size = 100\n",
    "learning_rate = 0.1\n",
    "\n",
    "train_loss_list = []\n",
    "train_acc_list = []\n",
    "test_acc_list_100 = []\n",
    "\n",
    "iter_per_epoch = max(train_size/batch_size, 1)\n",
    "\n",
    "for i in tqdm(range(iter_nums)):\n",
    "    batch_mask = np.random.choice(train_size, batch_size)\n",
    "    x_batch = x_train[batch_mask]\n",
    "    t_batch = t_train[batch_mask]\n",
    "\n",
    "    grad = network.gradient(x_batch, t_batch)\n",
    "\n",
    "    for key in ('W1', 'b1', 'W2', 'b2'):\n",
    "        network.params[key] -= learning_rate * grad[key]\n",
    "    \n",
    "    loss = network.loss(x_batch, t_batch)\n",
    "    train_loss_list.append(loss)\n",
    "\n",
    "    if i % iter_per_epoch == 0:\n",
    "        train_acc = network.accuracy(x_train, t_train)\n",
    "        test_acc = network.accuracy(x_test, t_test)\n",
    "        train_acc_list.append(train_acc)\n",
    "        test_acc_list_100.append(test_acc)\n",
    "        print(f\"{i}th iter - train accuracy: {train_acc:.3f}%, test_accuracy: {test_acc:.3f}%\")"
   ]
  },
  {
   "cell_type": "code",
   "execution_count": 52,
   "metadata": {},
   "outputs": [
    {
     "data": {
      "text/plain": [
       "17"
      ]
     },
     "execution_count": 52,
     "metadata": {},
     "output_type": "execute_result"
    }
   ],
   "source": [
    "len(test_acc_list_100)"
   ]
  },
  {
   "cell_type": "code",
   "execution_count": 75,
   "metadata": {},
   "outputs": [
    {
     "name": "stderr",
     "output_type": "stream",
     "text": [
      "/var/folders/hn/nrs0d2b91f1f7jdk9wdd8yfc0000gn/T/ipykernel_18851/3615937662.py:12: MatplotlibDeprecationWarning: Passing the emit parameter of set_ylim() positionally is deprecated since Matplotlib 3.6; the parameter will become keyword-only two minor releases later.\n",
      "  ax2.set_ylim(0.97, 0.979, 0.001)\n"
     ]
    },
    {
     "data": {
      "image/png": "[encoded data removed]",
      "text/plain": [
       "<Figure size 640x480 with 2 Axes>"
      ]
     },
     "metadata": {},
     "output_type": "display_data"
    }
   ],
   "source": [
    "import matplotlib.pyplot as plt\n",
    "\n",
    "fig, (ax1, ax2) = plt.subplots(1,2)\n",
    "\n",
    "ax1.plot(np.arange(0, 20000, 600), test_acc_list, color='blue')\n",
    "ax1.plot(np.arange(0, 20000, 600), test_acc_list_70, color='red')\n",
    "ax1.plot(np.arange(0, 20000, 600), test_acc_list_100, color='green')\n",
    "\n",
    "ax2.plot(np.arange(0, 20000, 600), test_acc_list, color='blue')\n",
    "ax2.plot(np.arange(0, 20000, 600), test_acc_list_70, color='red')\n",
    "ax2.plot(np.arange(0, 20000, 600), test_acc_list_100, color='green')\n",
    "ax2.set_ylim(0.97, 0.979, 0.001)\n",
    "ax2.set_yticks(np.arange(0.97, 0.979, 0.001))\n",
    "\n",
    "\n",
    "plt.show()"
   ]
  },
  {
   "cell_type": "code",
   "execution_count": 76,
   "metadata": {},
   "outputs": [
    {
     "data": {
      "application/vnd.jupyter.widget-view+json": {
       "model_id": "3d8af9df4f2f458281655e99062207b0",
       "version_major": 2,
       "version_minor": 0
      },
      "text/plain": [
       "  0%|          | 0/10000 [00:00<?, ?it/s]"
      ]
     },
     "metadata": {},
     "output_type": "display_data"
    },
    {
     "name": "stdout",
     "output_type": "stream",
     "text": [
      "0th iter - train accuracy: 0.071%, test_accuracy: 0.073%\n",
      "600th iter - train accuracy: 0.905%, test_accuracy: 0.907%\n",
      "1200th iter - train accuracy: 0.922%, test_accuracy: 0.924%\n",
      "1800th iter - train accuracy: 0.937%, test_accuracy: 0.938%\n",
      "2400th iter - train accuracy: 0.946%, test_accuracy: 0.944%\n",
      "3000th iter - train accuracy: 0.952%, test_accuracy: 0.951%\n",
      "3600th iter - train accuracy: 0.957%, test_accuracy: 0.954%\n",
      "4200th iter - train accuracy: 0.962%, test_accuracy: 0.958%\n",
      "4800th iter - train accuracy: 0.964%, test_accuracy: 0.962%\n",
      "5400th iter - train accuracy: 0.969%, test_accuracy: 0.964%\n",
      "6000th iter - train accuracy: 0.971%, test_accuracy: 0.964%\n",
      "6600th iter - train accuracy: 0.974%, test_accuracy: 0.967%\n",
      "7200th iter - train accuracy: 0.975%, test_accuracy: 0.967%\n",
      "7800th iter - train accuracy: 0.975%, test_accuracy: 0.970%\n",
      "8400th iter - train accuracy: 0.978%, test_accuracy: 0.970%\n",
      "9000th iter - train accuracy: 0.977%, test_accuracy: 0.969%\n",
      "9600th iter - train accuracy: 0.980%, test_accuracy: 0.971%\n"
     ]
    }
   ],
   "source": [
    "from dataset.mnist import load_mnist\n",
    "from tqdm.auto import tqdm\n",
    "## 학습 시간이 무척 짧은 것을 알 수 있다.\n",
    "\n",
    "(x_train, t_train), (x_test, t_test) = load_mnist(normalize=True, one_hot_label=True)\n",
    "\n",
    "network = TwoLayerNet(input_size=784, hidden_size=50, output_size=10)\n",
    "\n",
    "iter_nums = 10000\n",
    "train_size = x_train.shape[0]\n",
    "batch_size = 100\n",
    "learning_rate = 0.1\n",
    "\n",
    "train_loss_list = []\n",
    "train_acc_list = []\n",
    "test_acc_list = []\n",
    "\n",
    "iter_per_epoch = max(train_size/batch_size, 1)\n",
    "\n",
    "for i in tqdm(range(iter_nums)):\n",
    "    batch_mask = np.random.choice(train_size, batch_size)\n",
    "    x_batch = x_train[batch_mask]\n",
    "    t_batch = t_train[batch_mask]\n",
    "\n",
    "    grad = network.gradient(x_batch, t_batch)\n",
    "\n",
    "    for key in ('W1', 'b1', 'W2', 'b2'):\n",
    "        network.params[key] -= learning_rate * grad[key]\n",
    "    \n",
    "    loss = network.loss(x_batch, t_batch)\n",
    "    train_loss_list.append(loss)\n",
    "\n",
    "    if i % iter_per_epoch == 0:\n",
    "        train_acc = network.accuracy(x_train, t_train)\n",
    "        test_acc = network.accuracy(x_test, t_test)\n",
    "        train_acc_list.append(train_acc)\n",
    "        test_acc_list.append(test_acc)\n",
    "        print(f\"{i}th iter - train accuracy: {train_acc:.3f}%, test_accuracy: {test_acc:.3f}%\")"
   ]
  },
  {
   "cell_type": "code",
   "execution_count": 82,
   "metadata": {},
   "outputs": [
    {
     "data": {
      "image/png": "[encoded data removed]",
      "text/plain": [
       "<Figure size 640x480 with 1 Axes>"
      ]
     },
     "metadata": {},
     "output_type": "display_data"
    }
   ],
   "source": [
    "plt.plot(np.arange(0, 10000, 600), test_acc_list)\n",
    "plt.show()"
   ]
  },
  {
   "cell_type": "code",
   "execution_count": 86,
   "metadata": {},
   "outputs": [
    {
     "name": "stderr",
     "output_type": "stream",
     "text": [
      "/var/folders/hn/nrs0d2b91f1f7jdk9wdd8yfc0000gn/T/ipykernel_18851/3066349409.py:2: MatplotlibDeprecationWarning: Passing the emit parameter of set_ylim() positionally is deprecated since Matplotlib 3.6; the parameter will become keyword-only two minor releases later.\n",
      "  plt.ylim(0.9,1.0,0.005)\n"
     ]
    },
    {
     "data": {
      "image/png": "[encoded data removed]",
      "text/plain": [
       "<Figure size 640x480 with 1 Axes>"
      ]
     },
     "metadata": {},
     "output_type": "display_data"
    }
   ],
   "source": [
    "plt.plot(np.arange(0, 10000, 600), test_acc_list)\n",
    "plt.ylim(0.9,1.0,0.005)\n",
    "plt.show()"
   ]
  }
 ],
 "metadata": {
  "kernelspec": {
   "display_name": "base",
   "language": "python",
   "name": "python3"
  },
  "language_info": {
   "codemirror_mode": {
    "name": "ipython",
    "version": 3
   },
   "file_extension": ".py",
   "mimetype": "text/x-python",
   "name": "python",
   "nbconvert_exporter": "python",
   "pygments_lexer": "ipython3",
   "version": "3.9.12"
  }
 },
 "nbformat": 4,
 "nbformat_minor": 2
}
