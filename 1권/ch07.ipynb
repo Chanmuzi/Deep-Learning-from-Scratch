{
 "cells": [
  {
   "cell_type": "markdown",
   "metadata": {},
   "source": [
    "## 합성곱/풀링 계층 구현하기"
   ]
  },
  {
   "cell_type": "markdown",
   "metadata": {},
   "source": [
    "4차원 배열"
   ]
  },
  {
   "cell_type": "code",
   "execution_count": 1,
   "metadata": {},
   "outputs": [],
   "source": [
    "import numpy as np"
   ]
  },
  {
   "cell_type": "code",
   "execution_count": 3,
   "metadata": {},
   "outputs": [
    {
     "name": "stdout",
     "output_type": "stream",
     "text": [
      "(10, 1, 28, 28)\n",
      "10\n",
      "1\n"
     ]
    }
   ],
   "source": [
    "x = np.random.rand(10, 1, 28, 28) # 데이터 수, 채널, 높이, 너비\n",
    "print(x.shape) \n",
    "print(x.shape[0])\n",
    "print(x.shape[1])"
   ]
  },
  {
   "cell_type": "markdown",
   "metadata": {},
   "source": [
    "im2col로 데이터 전개하기"
   ]
  },
  {
   "cell_type": "code",
   "execution_count": null,
   "metadata": {},
   "outputs": [],
   "source": [
    "def im2col(input_data, filter_h, filter_w, stride=1, pad=0):\n",
    "    N, C, H, W = input_data.shape\n",
    "    out_h = (H + 2*pad - filter_h) // stride + 1\n",
    "    out_w = (W + 2*pad - filter_w) // stride + 1\n",
    "\n",
    "    img = np.pad(input_data, [(0,0), (0,0), (pad, pad), (pad, pad)], 'constant') ## height, width에만 padding 추가\n",
    "    col = np.zeros((N, C, filter_h, filter_w, out_h, out_w))\n",
    "\n",
    "    for y in range(filter_h):\n",
    "        y_max = y + stride * out_h\n",
    "        for x in range(filter_w):\n",
    "            x_max = x + stride * out_w\n",
    "            col[:, :, y, x, :, :] = img[:, :, y:y_max:stride, x:x_max:stride]\n",
    "    \n",
    "    ## N, out_h, out_w, C, h, w -> (N * out_h * out_w, C * h * w)\n",
    "    col = col.transpose(0, 4, 5, 1, 2 ,3).reshape(N * out_h * out_w, -1)"
   ]
  },
  {
   "cell_type": "code",
   "execution_count": 8,
   "metadata": {},
   "outputs": [],
   "source": [
    "input_data = np.random.rand(6, 3, 2, 2)\n",
    "pad = 1\n",
    "img = np.pad(input_data, [(0,0), (0,0), (pad, pad), (pad, pad)], 'constant')"
   ]
  },
  {
   "cell_type": "code",
   "execution_count": 13,
   "metadata": {},
   "outputs": [
    {
     "name": "stdout",
     "output_type": "stream",
     "text": [
      "원본 이미지 데이터:\n",
      "[[[[ 0  1  2  3]\n",
      "   [ 4  5  6  7]\n",
      "   [ 8  9 10 11]\n",
      "   [12 13 14 15]]]]\n",
      "\n",
      "평탄화된 데이터 (col 배열):\n",
      "[[[[[[ 0.  2.]\n",
      "     [ 8. 10.]]\n",
      "\n",
      "    [[ 1.  3.]\n",
      "     [ 9. 11.]]]\n",
      "\n",
      "\n",
      "   [[[ 4.  6.]\n",
      "     [12. 14.]]\n",
      "\n",
      "    [[ 5.  7.]\n",
      "     [13. 15.]]]]]]\n",
      "\n",
      "transpose 배열 (col 배열):\n",
      "[[[[[[ 0.  1.]\n",
      "     [ 4.  5.]]]\n",
      "\n",
      "\n",
      "   [[[ 2.  3.]\n",
      "     [ 6.  7.]]]]\n",
      "\n",
      "\n",
      "\n",
      "  [[[[ 8.  9.]\n",
      "     [12. 13.]]]\n",
      "\n",
      "\n",
      "   [[[10. 11.]\n",
      "     [14. 15.]]]]]]\n",
      "\n",
      "최종 2차원 배열 (col 배열):\n",
      "[[ 0.  1.  4.  5.]\n",
      " [ 2.  3.  6.  7.]\n",
      " [ 8.  9. 12. 13.]\n",
      " [10. 11. 14. 15.]]\n"
     ]
    }
   ],
   "source": [
    "import numpy as np\n",
    "\n",
    "# 예시 데이터 설정\n",
    "N, C, H, W = 1, 1, 4, 4  # 1개의 이미지, 1개의 채널, 4x4 크기\n",
    "filter_h, filter_w, stride, pad = 2, 2, 2, 0  # 2x2 필터, 스트라이드 2, 패딩 0\n",
    "\n",
    "# 4x4 크기의 이미지 데이터 생성 (값은 행과 열 인덱스의 합으로 설정)\n",
    "input_data = np.array([[[[i*4 + j for j in range(W)] for i in range(H)]]])\n",
    "print(\"원본 이미지 데이터:\")\n",
    "print(input_data)\n",
    "\n",
    "# 출력 데이터의 높이와 너비 계산\n",
    "out_h = (H + 2*pad - filter_h)//stride + 1\n",
    "out_w = (W + 2*pad - filter_w)//stride + 1\n",
    "\n",
    "# 패딩 적용 (이 경우에는 패딩이 0이므로 원본 데이터 그대로 사용)\n",
    "img = np.pad(input_data, [(0,0), (0,0), (pad, pad), (pad, pad)], 'constant')\n",
    "\n",
    "# 2차원 배열 초기화\n",
    "col = np.zeros((N, C, filter_h, filter_w, out_h, out_w))\n",
    "\n",
    "# 이미지 데이터의 평탄화\n",
    "for y in range(filter_h):\n",
    "    y_max = y + stride*out_h\n",
    "    for x in range(filter_w):\n",
    "        x_max = x + stride*out_w\n",
    "        col[:, :, y, x, :, :] = img[:, :, y:y_max:stride, x:x_max:stride]\n",
    "\n",
    "print(\"\\n평탄화된 데이터 (col 배열):\")\n",
    "print(col)\n",
    "\n",
    "# 차원 재배열 및 최종 2차원 배열 생성\n",
    "col = col.transpose(0, 4, 5, 1, 2, 3)\n",
    "print(\"\\ntranspose 배열 (col 배열):\")\n",
    "print(col)\n",
    "\n",
    "col = col.reshape(N*out_h*out_w, -1)\n",
    "\n",
    "print(\"\\n최종 2차원 배열 (col 배열):\")\n",
    "print(col)\n"
   ]
  },
  {
   "cell_type": "code",
   "execution_count": null,
   "metadata": {},
   "outputs": [],
   "source": []
  }
 ],
 "metadata": {
  "kernelspec": {
   "display_name": "base",
   "language": "python",
   "name": "python3"
  },
  "language_info": {
   "codemirror_mode": {
    "name": "ipython",
    "version": 3
   },
   "file_extension": ".py",
   "mimetype": "text/x-python",
   "name": "python",
   "nbconvert_exporter": "python",
   "pygments_lexer": "ipython3",
   "version": "3.9.12"
  }
 },
 "nbformat": 4,
 "nbformat_minor": 2
}
