{
 "cells": [
  {
   "cell_type": "markdown",
   "metadata": {},
   "source": [
    "## 합성곱/풀링 계층 구현하기"
   ]
  },
  {
   "cell_type": "markdown",
   "metadata": {},
   "source": [
    "4차원 배열"
   ]
  },
  {
   "cell_type": "code",
   "execution_count": 1,
   "metadata": {},
   "outputs": [],
   "source": [
    "import numpy as np"
   ]
  },
  {
   "cell_type": "code",
   "execution_count": 3,
   "metadata": {},
   "outputs": [
    {
     "name": "stdout",
     "output_type": "stream",
     "text": [
      "(10, 1, 28, 28)\n",
      "10\n",
      "1\n"
     ]
    }
   ],
   "source": [
    "x = np.random.rand(10, 1, 28, 28) # 데이터 수, 채널, 높이, 너비\n",
    "print(x.shape) \n",
    "print(x.shape[0])\n",
    "print(x.shape[1])"
   ]
  },
  {
   "cell_type": "markdown",
   "metadata": {},
   "source": [
    "im2col로 데이터 전개하기"
   ]
  },
  {
   "cell_type": "code",
   "execution_count": 16,
   "metadata": {},
   "outputs": [],
   "source": [
    "def im2col(input_data, filter_h, filter_w, stride=1, pad=0):\n",
    "    N, C, H, W = input_data.shape\n",
    "    out_h = (H + 2*pad - filter_h) // stride + 1\n",
    "    out_w = (W + 2*pad - filter_w) // stride + 1\n",
    "\n",
    "    img = np.pad(input_data, [(0,0), (0,0), (pad, pad), (pad, pad)], 'constant') ## height, width에만 padding 추가\n",
    "    col = np.zeros((N, C, filter_h, filter_w, out_h, out_w))\n",
    "\n",
    "    for y in range(filter_h):\n",
    "        y_max = y + stride * out_h\n",
    "        for x in range(filter_w):\n",
    "            x_max = x + stride * out_w\n",
    "            col[:, :, y, x, :, :] = img[:, :, y:y_max:stride, x:x_max:stride]\n",
    "    \n",
    "    ## N, out_h, out_w, C, h, w -> (N * out_h * out_w, C * h * w)\n",
    "    col = col.transpose(0, 4, 5, 1, 2 ,3).reshape(N * out_h * out_w, -1)\n",
    "    return col"
   ]
  },
  {
   "cell_type": "code",
   "execution_count": 8,
   "metadata": {},
   "outputs": [],
   "source": [
    "input_data = np.random.rand(6, 3, 2, 2)\n",
    "pad = 1\n",
    "img = np.pad(input_data, [(0,0), (0,0), (pad, pad), (pad, pad)], 'constant')"
   ]
  },
  {
   "cell_type": "code",
   "execution_count": 13,
   "metadata": {},
   "outputs": [
    {
     "name": "stdout",
     "output_type": "stream",
     "text": [
      "원본 이미지 데이터:\n",
      "[[[[ 0  1  2  3]\n",
      "   [ 4  5  6  7]\n",
      "   [ 8  9 10 11]\n",
      "   [12 13 14 15]]]]\n",
      "\n",
      "평탄화된 데이터 (col 배열):\n",
      "[[[[[[ 0.  2.]\n",
      "     [ 8. 10.]]\n",
      "\n",
      "    [[ 1.  3.]\n",
      "     [ 9. 11.]]]\n",
      "\n",
      "\n",
      "   [[[ 4.  6.]\n",
      "     [12. 14.]]\n",
      "\n",
      "    [[ 5.  7.]\n",
      "     [13. 15.]]]]]]\n",
      "\n",
      "transpose 배열 (col 배열):\n",
      "[[[[[[ 0.  1.]\n",
      "     [ 4.  5.]]]\n",
      "\n",
      "\n",
      "   [[[ 2.  3.]\n",
      "     [ 6.  7.]]]]\n",
      "\n",
      "\n",
      "\n",
      "  [[[[ 8.  9.]\n",
      "     [12. 13.]]]\n",
      "\n",
      "\n",
      "   [[[10. 11.]\n",
      "     [14. 15.]]]]]]\n",
      "\n",
      "최종 2차원 배열 (col 배열):\n",
      "[[ 0.  1.  4.  5.]\n",
      " [ 2.  3.  6.  7.]\n",
      " [ 8.  9. 12. 13.]\n",
      " [10. 11. 14. 15.]]\n"
     ]
    }
   ],
   "source": [
    "import numpy as np\n",
    "\n",
    "# 예시 데이터 설정\n",
    "N, C, H, W = 1, 1, 4, 4  # 1개의 이미지, 1개의 채널, 4x4 크기\n",
    "filter_h, filter_w, stride, pad = 2, 2, 2, 0  # 2x2 필터, 스트라이드 2, 패딩 0\n",
    "\n",
    "# 4x4 크기의 이미지 데이터 생성 (값은 행과 열 인덱스의 합으로 설정)\n",
    "input_data = np.array([[[[i*4 + j for j in range(W)] for i in range(H)]]])\n",
    "print(\"원본 이미지 데이터:\")\n",
    "print(input_data)\n",
    "\n",
    "# 출력 데이터의 높이와 너비 계산\n",
    "out_h = (H + 2*pad - filter_h)//stride + 1\n",
    "out_w = (W + 2*pad - filter_w)//stride + 1\n",
    "\n",
    "# 패딩 적용 (이 경우에는 패딩이 0이므로 원본 데이터 그대로 사용)\n",
    "img = np.pad(input_data, [(0,0), (0,0), (pad, pad), (pad, pad)], 'constant')\n",
    "\n",
    "# 2차원 배열 초기화\n",
    "col = np.zeros((N, C, filter_h, filter_w, out_h, out_w))\n",
    "\n",
    "# 이미지 데이터의 평탄화\n",
    "for y in range(filter_h):\n",
    "    y_max = y + stride*out_h\n",
    "    for x in range(filter_w):\n",
    "        x_max = x + stride*out_w\n",
    "        col[:, :, y, x, :, :] = img[:, :, y:y_max:stride, x:x_max:stride]\n",
    "\n",
    "print(\"\\n평탄화된 데이터 (col 배열):\")\n",
    "print(col)\n",
    "\n",
    "# 차원 재배열 및 최종 2차원 배열 생성\n",
    "col = col.transpose(0, 4, 5, 1, 2, 3)\n",
    "print(\"\\ntranspose 배열 (col 배열):\")\n",
    "print(col)\n",
    "\n",
    "col = col.reshape(N*out_h*out_w, -1)\n",
    "\n",
    "print(\"\\n최종 2차원 배열 (col 배열):\")\n",
    "print(col)\n"
   ]
  },
  {
   "cell_type": "markdown",
   "metadata": {},
   "source": [
    "합성곱 계층 구현하기"
   ]
  },
  {
   "cell_type": "code",
   "execution_count": 17,
   "metadata": {},
   "outputs": [
    {
     "name": "stdout",
     "output_type": "stream",
     "text": [
      "(9, 75)\n",
      "(90, 75)\n"
     ]
    }
   ],
   "source": [
    "x1 = np.random.rand(1, 3, 7, 7) # 데이터, 채널, 높이, 너비\n",
    "col1 = im2col(x1, 5, 5, stride=1, pad=0)\n",
    "print(col1.shape) ## filter_h * filter_w * channel 수만큼의 feature 생성\n",
    "\n",
    "x2 = np.random.rand(10, 3, 7, 7)\n",
    "col2 = im2col(x2, 5, 5, stride=1, pad=0)\n",
    "print(col2.shape)"
   ]
  },
  {
   "cell_type": "code",
   "execution_count": 18,
   "metadata": {},
   "outputs": [],
   "source": [
    "class Convolution:\n",
    "    def __init__(self, W, b, stride=1, pad=0):\n",
    "        self.W = W\n",
    "        self.b = b\n",
    "        self.stride = stride\n",
    "        self.pad = pad\n",
    "    \n",
    "    def forward(self, x):\n",
    "        FN, C, FH, FW = self.W.shape # 필터 개수, 채널, 높이, 너비\n",
    "        N, C, H, W = x.shape\n",
    "        out_h = int((H + 2*self.pad - FH) / self.stride + 1)\n",
    "        out_w = int((W + 2*self.pad - FW) / self.stride + 1)\n",
    "\n",
    "        col = im2col(x, FH, FW, self.stride, self.pad) ## (N * H * W, C * FH * FW)\n",
    "        col_W = self.W.reshape(FN, -1).T # 필터 펼치기 ## (FN, C * FH * FW).T -> (C * FH * FW, FN)\n",
    "        col_W = self.W.reshape(-1, FN) ## 개선한 코드. 결과적으로 동일하다\n",
    "        out = np.dot(col, col_W) + self.b\n",
    "\n",
    "        out = out.reshape(N, out_h, out_w, -1).transpose(0, 3, 1, 2)\n",
    "\n",
    "        return out\n"
   ]
  },
  {
   "cell_type": "code",
   "execution_count": 35,
   "metadata": {},
   "outputs": [
    {
     "name": "stdout",
     "output_type": "stream",
     "text": [
      "(4, 1)\n",
      "입력 데이터 x:\n",
      "[[[[0.15095727 0.82056136 0.11493924 0.75676101]\n",
      "   [0.94081566 0.34925049 0.94565707 0.20490969]\n",
      "   [0.90130254 0.21916467 0.92908738 0.18050672]\n",
      "   [0.00481105 0.26711582 0.35202711 0.17179169]]]]\n",
      "\n",
      "필터 가중치 W:\n",
      "[[[[0.77842886 0.58721771 0.20868072]\n",
      "   [0.10710841 0.34030623 0.3961517 ]\n",
      "   [0.51695162 0.39108652 0.97186053]]]]\n",
      "\n",
      "편향 b:\n",
      "[0.46235792]\n",
      "\n",
      "컨볼루션 결과 out:\n",
      "[[[[3.13453175 2.41899677]\n",
      "   [2.58539591 2.18616509]]]]\n"
     ]
    }
   ],
   "source": [
    "## 예시 입력 데이터, 필터 가중치, 편향 설정\n",
    "x = np.random.rand(1, 1, 4, 4) # 임의의 4x4 크기의 이미지 데이터\n",
    "weights = np.random.rand(1, 1, 3, 3) # 3x3 크기의 필터\n",
    "b = np.random.rand(1) # 편향\n",
    "stride = 1\n",
    "pad = 0\n",
    "# Convolution의 forward 함수 대신 독립된 함수로 변환\n",
    "\n",
    "FN, C, FH, FW = weights.shape # 필터 개수, 채널 수, 필터 높이, 필터 너비 -> 1, 1, 3, 3\n",
    "N, C, H, W = x.shape # 이미지 수, 채널 수, 높이, 너비 -> 1, 1, 4, 4\n",
    "out_h = int((H + 2*pad - FH) / stride + 1) # 출력 데이터의 높이 -> 2\n",
    "out_w = int((W + 2*pad - FW) / stride + 1) # 출력 데이터의 너비 -> 2\n",
    "\n",
    "# im2col 함수를 사용하여 입력 데이터를 2차원 배열로 변환\n",
    "col = im2col(x, FH, FW, stride, pad) # (4, 9) = (이미지 수 * 출력 높이 * 출력 너비, 필터 높이 * 필터 너비 * 채널 수)\n",
    "# 필터를 2차원 배열로 변환\n",
    "col_weights = weights.reshape(-1, FN)\n",
    "# col_weights = weights.reshape(FN, -1).T # (1, 9).T = (FN, C * FH * FH).T = (필터 개수, 채널 수 * 필터 높이 * 필터 너비).T\n",
    "\n",
    "# 컨볼루션 연산 수행: (4, 9) * (9, 1) = (4, 1) = (이미지 수 * 출력 높이 * 출력 너비, 필터 개수)\n",
    "out = np.dot(col, col_weights) + b\n",
    "print(out.shape)\n",
    "\n",
    "# 출력 데이터를 적절한 형태로 재배열\n",
    "out = out.reshape(N, out_h, out_w, -1) # (이미지 수, 출력 높이, 출력 너비, 필터 개수)\n",
    "\n",
    "out = out.transpose(0, 3, 1, 2) # (이미지 수, 필터 개수, 출력 높이, 출력 너비)\n",
    "\n",
    "print(\"입력 데이터 x:\")\n",
    "print(x)\n",
    "print(\"\\n필터 가중치 W:\")\n",
    "print(weights)\n",
    "print(\"\\n편향 b:\")\n",
    "print(b)\n",
    "print(\"\\n컨볼루션 결과 out:\")\n",
    "print(out)"
   ]
  }
 ],
 "metadata": {
  "kernelspec": {
   "display_name": "base",
   "language": "python",
   "name": "python3"
  },
  "language_info": {
   "codemirror_mode": {
    "name": "ipython",
    "version": 3
   },
   "file_extension": ".py",
   "mimetype": "text/x-python",
   "name": "python",
   "nbconvert_exporter": "python",
   "pygments_lexer": "ipython3",
   "version": "3.9.12"
  }
 },
 "nbformat": 4,
 "nbformat_minor": 2
}
