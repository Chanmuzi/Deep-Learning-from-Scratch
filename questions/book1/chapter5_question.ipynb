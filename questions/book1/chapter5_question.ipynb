{
 "cells": [
  {
   "cell_type": "code",
   "execution_count": null,
   "metadata": {},
   "outputs": [],
   "source": [
    "import numpy as np"
   ]
  },
  {
   "cell_type": "markdown",
   "metadata": {},
   "source": [
    "## 곱셈 계층"
   ]
  },
  {
   "cell_type": "code",
   "execution_count": 2,
   "metadata": {},
   "outputs": [],
   "source": [
    "class MulLayer:\n",
    "    '''\n",
    "    네트워크의 계층을 클래스로 구현할 때는 캐시로 저장할 변수가 무엇인지 생각하는 것도 중요합니다.\n",
    "    결국 단순 inference가 아닌 fine-tuning을 할 때 훨씬 더 많은 VRAM이 요구되는 원인이 되기 때문입니다.\n",
    "    '''\n",
    "    def __init__(self):\n",
    "        self.x = None\n",
    "        self.y = None\n",
    "\n",
    "    def forward(self, x, y):\n",
    "        #### 시작 ####\n",
    "\n",
    "        #### 끝 ####\n",
    "        return out\n",
    "    \n",
    "    def backward(self, dout):\n",
    "        #### 시작 ####\n",
    "\n",
    "        #### 끝 ####\n",
    "        return dx, dy"
   ]
  },
  {
   "cell_type": "code",
   "execution_count": 8,
   "metadata": {},
   "outputs": [],
   "source": [
    "apple = 100\n",
    "apple_num = 2\n",
    "tax = 1.1\n",
    "\n",
    "mul_apple_layer = MulLayer()\n",
    "mul_tax_layer = MulLayer()\n",
    "\n",
    "apple_price = mul_apple_layer.forward(apple, apple_num)\n",
    "price = mul_tax_layer.forward(apple_price, tax)\n",
    "assert int(price) == 220, '오답입니다.'\n",
    "assert mul_apple_layer.x == 100, '캐시가 저장되지 않았습니다'"
   ]
  },
  {
   "cell_type": "code",
   "execution_count": 11,
   "metadata": {},
   "outputs": [],
   "source": [
    "dprice = 1\n",
    "dapple_price, dtax = mul_tax_layer.backward(dprice)\n",
    "dapple, dapple_num = mul_apple_layer.backward(dapple_price)\n",
    "\n",
    "assert dapple == 2.2, '오답입니다.'\n",
    "assert int(dapple_num) == 110, '오답입니다.'\n",
    "assert dtax == 200, '오답입니다.'"
   ]
  },
  {
   "cell_type": "markdown",
   "metadata": {},
   "source": [
    "## Relu 계층"
   ]
  },
  {
   "cell_type": "markdown",
   "metadata": {},
   "source": [
    "$$y=\n",
    "\\begin{cases}\n",
    "x & (x > 0)\\\\\n",
    "0 & (x \\leq 0)\n",
    "\\end{cases}"
   ]
  },
  {
   "cell_type": "code",
   "execution_count": null,
   "metadata": {},
   "outputs": [],
   "source": [
    "class Relu:\n",
    "    def __init__(self):\n",
    "        '''\n",
    "        특정 값들만을 활성화 또는 비활성화하는 테크닉으로 mask가 자주 사용됩니다.\n",
    "        이를 활용하여 Relu의 forward와 bacwkard 메서드를 구현하세요.\n",
    "        '''\n",
    "        self.mask = None\n",
    "    \n",
    "    def forward(self, x):\n",
    "        #### 시작 ####\n",
    "\n",
    "        #### 끝 ####\n",
    "        return out\n",
    "    \n",
    "    def backward(self, dout):\n",
    "        #### 시작 ####\n",
    "\n",
    "        #### 끝 ####\n",
    "        return dx"
   ]
  },
  {
   "cell_type": "code",
   "execution_count": null,
   "metadata": {},
   "outputs": [],
   "source": [
    "x = np.array([[1.0, -0.5], [-2.0, 3.0]])\n",
    "\n",
    "relu = Relu()\n",
    "assert np.allclose(relu.forward(x), np.array([[1., 0.], [0., 3.]])), '오답입니다.'\n",
    "assert np.allclose(relu.mask, np.array([[False,  True], [ True, False]])), 'mask를 제대로 활용하지 못했습니다.'\n",
    "\n",
    "dout = np.ones((2,2))\n",
    "assert np.allclose(relu.backward(dout), np.array([[1., 0.],[0., 1.]])), 'backward가 제대로 구현되지 않았습니다.'"
   ]
  }
 ],
 "metadata": {
  "kernelspec": {
   "display_name": "base",
   "language": "python",
   "name": "python3"
  },
  "language_info": {
   "codemirror_mode": {
    "name": "ipython",
    "version": 3
   },
   "file_extension": ".py",
   "mimetype": "text/x-python",
   "name": "python",
   "nbconvert_exporter": "python",
   "pygments_lexer": "ipython3",
   "version": "3.9.12"
  }
 },
 "nbformat": 4,
 "nbformat_minor": 2
}
