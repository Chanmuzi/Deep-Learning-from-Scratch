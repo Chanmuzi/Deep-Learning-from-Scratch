{
 "cells": [
  {
   "cell_type": "code",
   "execution_count": null,
   "metadata": {},
   "outputs": [],
   "source": [
    "import numpy as np"
   ]
  },
  {
   "cell_type": "markdown",
   "metadata": {},
   "source": [
    "## 곱셈 계층"
   ]
  },
  {
   "cell_type": "code",
   "execution_count": 2,
   "metadata": {},
   "outputs": [],
   "source": [
    "class MulLayer:\n",
    "    def __init__(self):\n",
    "        self.x = None\n",
    "        self.y = None\n",
    "\n",
    "    def forward(self, x, y):\n",
    "        #### 시작 ####\n",
    "\n",
    "        #### 끝 ####\n",
    "        return out\n",
    "    \n",
    "    def backward(self, dout):\n",
    "        #### 시작 ####\n",
    "\n",
    "        #### 끝 ####\n",
    "        return dx, dy"
   ]
  },
  {
   "cell_type": "code",
   "execution_count": 8,
   "metadata": {},
   "outputs": [],
   "source": [
    "apple = 100\n",
    "apple_num = 2\n",
    "tax = 1.1\n",
    "\n",
    "mul_apple_layer = MulLayer()\n",
    "mul_tax_layer = MulLayer()\n",
    "\n",
    "apple_price = mul_apple_layer.forward(apple, apple_num)\n",
    "price = mul_tax_layer.forward(apple_price, tax)\n",
    "assert int(price) == 220, '오답입니다.'\n",
    "assert mul_apple_layer.x == 100, '캐시가 저장되지 않았습니다'"
   ]
  },
  {
   "cell_type": "code",
   "execution_count": 11,
   "metadata": {},
   "outputs": [],
   "source": [
    "dprice = 1\n",
    "dapple_price, dtax = mul_tax_layer.backward(dprice)\n",
    "dapple, dapple_num = mul_apple_layer.backward(dapple_price)\n",
    "\n",
    "assert dapple == 2.2, '오답입니다.'\n",
    "assert int(dapple_num) == 110, '오답입니다.'\n",
    "assert dtax == 200, '오답입니다.'"
   ]
  },
  {
   "cell_type": "markdown",
   "metadata": {},
   "source": [
    "## Relu 계층"
   ]
  },
  {
   "cell_type": "markdown",
   "metadata": {},
   "source": [
    "$$y=\n",
    "\\begin{cases}\n",
    "x & (x > 0)\\\\\n",
    "0 & (x \\leq 0)\n",
    "\\end{cases}"
   ]
  },
  {
   "cell_type": "code",
   "execution_count": null,
   "metadata": {},
   "outputs": [],
   "source": [
    "class Relu:\n",
    "    def __init__(self):\n",
    "        '''\n",
    "        특정 값들만을 활성화 또는 비활성화하는 테크닉으로 mask가 자주 사용됩니다.\n",
    "        이를 활용하여 Relu의 forward와 bacwkard 메서드를 구현하세요.\n",
    "        '''\n",
    "        self.mask = None\n",
    "    \n",
    "    def forward(self, x):\n",
    "        #### 시작 ####\n",
    "\n",
    "        #### 끝 ####\n",
    "        return out\n",
    "    \n",
    "    def backward(self, dout):\n",
    "        #### 시작 ####\n",
    "\n",
    "        #### 끝 ####\n",
    "        return dx"
   ]
  },
  {
   "cell_type": "code",
   "execution_count": null,
   "metadata": {},
   "outputs": [],
   "source": [
    "x = np.array([[1.0, -0.5], [-2.0, 3.0]])\n",
    "\n",
    "relu = Relu()\n",
    "assert np.allclose(relu.forward(x), np.array([[1., 0.], [0., 3.]])), '오답입니다.'\n",
    "assert np.allclose(relu.mask, np.array([[False,  True], [ True, False]])), 'mask를 제대로 활용하지 못했습니다.'\n",
    "\n",
    "dout = np.ones((2,2))\n",
    "assert np.allclose(relu.backward(dout), np.array([[1., 0.],[0., 1.]])), 'backward가 제대로 구현되지 않았습니다.'"
   ]
  },
  {
   "cell_type": "markdown",
   "metadata": {},
   "source": [
    "## Sigmoid 계층"
   ]
  },
  {
   "cell_type": "markdown",
   "metadata": {},
   "source": [
    "$$y=\\frac{1}{1+exp(-x)}$$"
   ]
  },
  {
   "cell_type": "code",
   "execution_count": null,
   "metadata": {},
   "outputs": [],
   "source": [
    "class Sigmoid:\n",
    "    def __init__(self):\n",
    "        self.out = None\n",
    "\n",
    "    def forward(self, x):\n",
    "        #### 시작 ####\n",
    "\n",
    "        #### 끝 ####\n",
    "        return out\n",
    "    \n",
    "    def backward(self, dout):\n",
    "        #### 시작 ####\n",
    "\n",
    "        #### 끝 ####\n",
    "        return dx"
   ]
  },
  {
   "cell_type": "code",
   "execution_count": null,
   "metadata": {},
   "outputs": [],
   "source": [
    "sigmoid = Sigmoid()\n",
    "x = np.array([[1.0, -0.5], [-2.0, 3.0]])\n",
    "\n",
    "out = sigmoid.forward(x)\n",
    "assert np.allclose(out, np.array([[0.73105858, 0.37754067], [0.11920292, 0.95257413]])), '오답입니다.'\n",
    "\n",
    "dout = np.ones((2,2))\n",
    "dx = sigmoid.backward(dout)\n",
    "assert np.allclose(dx, np.array([[0.19661193, 0.23500371], [0.10499359, 0.04517666]]))"
   ]
  },
  {
   "cell_type": "markdown",
   "metadata": {},
   "source": [
    "## Affine 계층"
   ]
  },
  {
   "cell_type": "code",
   "execution_count": null,
   "metadata": {},
   "outputs": [],
   "source": [
    "class Affine:\n",
    "    '''\n",
    "    어떤 변수를 초기화 해둬야 할지에 대해서도 잘 생각해 보세요.\n",
    "    그리고 bacwkard를 수행할 때 주의할 점은 batch 단위를 고려해야 한다는 점입니다.\n",
    "    여러 개의 입력이 한 번에 주어질 땐 어떤 연산을 해야 할지를 잘 생각해 봐야 합니다.\n",
    "    '''\n",
    "    def __init__(self, W, b):\n",
    "        self.W = W\n",
    "        self.b = b\n",
    "        #### 시작 ####\n",
    "        self.\n",
    "        self.\n",
    "        self.\n",
    "        #### 끝 ####\n",
    "\n",
    "    def forward(self, x):\n",
    "        #### 시작 ####\n",
    "        \n",
    "        #### 끝\n",
    "        return out\n",
    "    \n",
    "    def backward(self, dout):\n",
    "        #### 시작 ####\n",
    "        dx = np.dot(dout, self.W.T)\n",
    "        self.dW = np.dot(self.x.T, dout)\n",
    "        self.db = np.sum(dout, axis=0)\n",
    "        #### 끝 ####\n",
    "        return dx"
   ]
  },
  {
   "cell_type": "code",
   "execution_count": null,
   "metadata": {},
   "outputs": [],
   "source": [
    "np.random.seed(42)\n",
    "\n",
    "X = np.array([[0,1,2], [7,8,9]])\n",
    "W = np.random.randn(3,4)\n",
    "B = np.array([1,2,3,4])\n",
    "\n",
    "affine = Affine(W, B)\n",
    "y = affine.forward(X)\n",
    "\n",
    "assert np.allclose(y ,np.array([[-0.17310215,  2.85098313,  3.65237743,  3.83597522], \n",
    "                      [-1.6214974 ,  4.04209463, 15.99676306, 16.60911905]])), '오답입니다.'\n",
    "assert np.allclose(affine.x, np.array(([[0, 1, 2], [7, 8, 9]]))), '오답입니다.'\n",
    "\n",
    "dx = affine.backward(np.random.randn(2,4))\n",
    "assert np.allclose(dx, np.array([[-1.58886576, -2.76421799, -0.09043303],\n",
    "                            [-3.28563423, -2.35423325,  1.72454259]])), '오답입니다.'\n",
    "assert np.allclose(affine.dW, np.array([[ -7.08981784,   2.19973133,  -6.35616853,  -9.88612591],\n",
    "       [ -7.86068669,   0.60069842,  -8.98911044, -11.86071714],\n",
    "       [ -8.63155554,  -0.9983345 , -11.62205234, -13.83530837]])), '오답입니다.'"
   ]
  },
  {
   "cell_type": "markdown",
   "metadata": {},
   "source": [
    "## Softmax-with-Loss 계층"
   ]
  },
  {
   "cell_type": "markdown",
   "metadata": {},
   "source": [
    "softmax와 cross entropy error를 결합한 클래스를 구현합니다.\n",
    "\n",
    "여기서는 cross entropy error를 따로 구현하지 않고 구현된 함수를 불러올 것입니다.\n",
    "\n",
    "단, 우리가 구현하고자 하는 클래스의 forward 함수가 return하고자 하는 것은 무엇인지, \n",
    "\n",
    "그리고 backward는 어떻게 구해야 하는지 기억을 잘 떠올려 보도록 하세요"
   ]
  },
  {
   "cell_type": "code",
   "execution_count": null,
   "metadata": {},
   "outputs": [],
   "source": [
    "from common.layers import softmax, cross_entropy_error\n",
    "\n",
    "class SoftmaxWithLoss:\n",
    "    def __init__(self):\n",
    "        self.loss = None\n",
    "        # Hint: 이 클래스에서는 모델의 예측값과 타겟값을 저장해두어야 합니다. 이를 backward에 활용하기 위함이죠.\n",
    "        #### 시작 ####\n",
    "\n",
    "        #### 끝 ####\n",
    "\n",
    "    def forward(self, x, t):\n",
    "        # Hint: import한 함수를 활용해 보세요.\n",
    "        #### 시작 ####\n",
    "\n",
    "        #### 끝\n",
    "        return self.loss\n",
    "    \n",
    "    def backward(self, dout=1):\n",
    "        # Hint1: 입력은 과연 어떤 형상(shape)일까요? \n",
    "        # Hint2: 데이터의 개수는 한 개일까요? 여러 개라면 어떻게 미분 계수를 구해야 할까요?\n",
    "        #### 시작 ####\n",
    "        \n",
    "        #### 끝 ####\n",
    "        return dx"
   ]
  },
  {
   "cell_type": "code",
   "execution_count": null,
   "metadata": {},
   "outputs": [],
   "source": [
    "np.random.seed(42)\n",
    "\n",
    "softmaxwithloss = SoftmaxWithLoss()\n",
    "x = np.random.randn(2,4)\n",
    "t = np.array([[0,1,0,0],[1,0,0,0]])\n",
    "\n",
    "loss = softmaxwithloss.forward(x,t)\n",
    "assert loss == 2.3606278650150694, '오답입니다.'\n",
    "\n",
    "dx = softmaxwithloss.backward()\n",
    "assert np.allclose(dx, np.array([[ 0.09117967, -0.45167962,  0.10603893,  0.25446101],\n",
    "       [-0.45393263,  0.04606813,  0.28244139,  0.12542312]])), '오답입니다.'"
   ]
  },
  {
   "cell_type": "code",
   "execution_count": null,
   "metadata": {},
   "outputs": [],
   "source": [
    "np.random.seed(42)\n",
    "\n",
    "softmaxwithloss = SoftmaxWithLoss()\n",
    "x = np.random.randn(2,4)\n",
    "t = np.array([1,0])\n",
    "\n",
    "loss = softmaxwithloss.forward(x,t)\n",
    "assert loss == 2.3606278650150694, '오답입니다.'\n",
    "\n",
    "dx = softmaxwithloss.backward()\n",
    "assert np.allclose(dx, np.array([[ 0.09117967, -0.45167962,  0.10603893,  0.25446101],\n",
    "       [-0.45393263,  0.04606813,  0.28244139,  0.12542312]])), '배치 처리가 제대로 되었는지 확인해 보세요.'"
   ]
  }
 ],
 "metadata": {
  "kernelspec": {
   "display_name": "base",
   "language": "python",
   "name": "python3"
  },
  "language_info": {
   "codemirror_mode": {
    "name": "ipython",
    "version": 3
   },
   "file_extension": ".py",
   "mimetype": "text/x-python",
   "name": "python",
   "nbconvert_exporter": "python",
   "pygments_lexer": "ipython3",
   "version": "3.9.12"
  }
 },
 "nbformat": 4,
 "nbformat_minor": 2
}
