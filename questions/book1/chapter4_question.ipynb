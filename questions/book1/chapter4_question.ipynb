{
 "cells": [
  {
   "cell_type": "code",
   "execution_count": 1,
   "metadata": {},
   "outputs": [],
   "source": [
    "import numpy as np"
   ]
  },
  {
   "cell_type": "markdown",
   "metadata": {},
   "source": [
    "## 오차제곱합"
   ]
  },
  {
   "cell_type": "markdown",
   "metadata": {},
   "source": [
    "$E=\\frac{1}{2} \\sum_{k}(y_{k}-t_{k})^{2}$"
   ]
  },
  {
   "cell_type": "code",
   "execution_count": 2,
   "metadata": {},
   "outputs": [],
   "source": [
    "def sum_squares_error(y, t):\n",
    "    #### 코드 ####"
   ]
  },
  {
   "cell_type": "code",
   "execution_count": 6,
   "metadata": {},
   "outputs": [],
   "source": [
    "t = [0,0,1,0,0,0,0,0,0,0]\n",
    "y = [0.1,0.05,0.6,0.0,0.05,0.1,0.0,0.1,0.0,0.0]\n",
    "assert sum_squares_error(np.array(y), np.array(t)) == 0.09750000000000003, '오답입니다.'\n",
    "\n",
    "y = [0.1,0.05,0.1,0.0,0.05,0.1,0.0,0.6,0.0,0.0]\n",
    "assert sum_squares_error(np.array(y), np.array(t)) == 0.5975, '오답입니다.'"
   ]
  },
  {
   "cell_type": "markdown",
   "metadata": {},
   "source": [
    "## 교차 엔트로피 오차"
   ]
  },
  {
   "cell_type": "markdown",
   "metadata": {},
   "source": [
    "$E=-\\sum_{k} t_{k}\\log y_{k}$"
   ]
  },
  {
   "cell_type": "code",
   "execution_count": null,
   "metadata": {},
   "outputs": [],
   "source": [
    "def cross_entropy_error(y, t):\n",
    "    delta = 1e-7\n",
    "    #### 코드 ####"
   ]
  },
  {
   "cell_type": "code",
   "execution_count": null,
   "metadata": {},
   "outputs": [],
   "source": [
    "t = [0,0,1,0,0,0,0,0,0,0]\n",
    "y = [0.1,0.05,0.6,0.0,0.05,0.1,0.0,0.1,0.0,0.0]\n",
    "assert cross_entropy_error(np.array(y), np.array(t)) == 0.510825457099338, '오답입니다.'\n",
    "\n",
    "y = [0.1,0.05,0.1,0.0,0.05,0.1,0.0,0.6,0.0,0.0]\n",
    "assert cross_entropy_error(np.array(y), np.array(t)) == 2.302584092994546, '오답입니다.'"
   ]
  },
  {
   "cell_type": "markdown",
   "metadata": {},
   "source": [
    "## 배치용 교차 엔트로피 오차"
   ]
  },
  {
   "cell_type": "code",
   "execution_count": null,
   "metadata": {},
   "outputs": [],
   "source": [
    "def cross_entropy_error(y, t):\n",
    "    delta = 1e-7\n",
    "    #### 코드 ####"
   ]
  },
  {
   "cell_type": "code",
   "execution_count": null,
   "metadata": {},
   "outputs": [],
   "source": [
    "t = [0,0,1,0,0,0,0,0,0,0]\n",
    "y = [0.1,0.05,0.6,0.0,0.05,0.1,0.0,0.1,0.0,0.0]\n",
    "assert cross_entropy_error(np.array(y), np.array(t)) == 0.510825457099338, '오답입니다.'\n",
    "\n",
    "y = [0.1,0.05,0.1,0.0,0.05,0.1,0.0,0.6,0.0,0.0]\n",
    "assert cross_entropy_error(np.array(y), np.array(t)) == 2.302584092994546, '오답입니다.'\n",
    "\n",
    "t = [2]\n",
    "y = [0.1,0.05,0.6,0.0,0.05,0.1,0.0,0.1,0.0,0.0]\n",
    "assert cross_entropy_error(np.array(y), np.array(t)) == 0.510825457099338, 't는 원-핫 벡터가 아닐 수 있습니다.'"
   ]
  },
  {
   "cell_type": "markdown",
   "metadata": {},
   "source": [
    "## 수치 미분"
   ]
  },
  {
   "cell_type": "markdown",
   "metadata": {},
   "source": [
    "$$\\frac {df(x)} {dx} =\\lim_{h \\to 0} \\frac{f(x+h)-f(x-h)}{2h}$$"
   ]
  },
  {
   "cell_type": "code",
   "execution_count": null,
   "metadata": {},
   "outputs": [],
   "source": [
    "def numerical_diff(f, x):\n",
    "    h = 1e-4\n",
    "    #### 코드 ####"
   ]
  },
  {
   "cell_type": "code",
   "execution_count": null,
   "metadata": {},
   "outputs": [],
   "source": [
    "def function_1(x):\n",
    "    return 0.01*x**2 + 0.1*x\n",
    "\n",
    "assert numerical_diff(function_1, 5) == 0.1999999999990898, '미분 함수를 다시 확인하세요.'\n",
    "assert numerical_diff(function_1, 10) == 0.2999999999986347, '미분 함수를 다시 확인하세요.'"
   ]
  },
  {
   "cell_type": "markdown",
   "metadata": {},
   "source": [
    "## 기울기"
   ]
  },
  {
   "cell_type": "code",
   "execution_count": null,
   "metadata": {},
   "outputs": [],
   "source": [
    "def numerical_gradient(f, x:np.ndarray):\n",
    "    h = 1e-4\n",
    "    #### 시작 ####\n",
    "\n",
    "    #### 끝 ####\n",
    "    return grad"
   ]
  },
  {
   "cell_type": "markdown",
   "metadata": {},
   "source": [
    "function_2\n",
    "$$f(x_{0}, x_{1})=x^{2}_{0} + x^{2}_{1}$$"
   ]
  },
  {
   "cell_type": "code",
   "execution_count": null,
   "metadata": {},
   "outputs": [],
   "source": [
    "def function_2(x):\n",
    "    return x[0]**2 + x[1]**2\n",
    "\n",
    "y = numerical_gradient(function_2, np.array([3.0, 4.0]))\n",
    "assert np.allclose(y,  np.array([6., 8.])), '오답입니다.'\n",
    "\n",
    "y = numerical_gradient(function_2, np.array([0.0, 2.0]))\n",
    "assert np.allclose(y,  np.array([0., 4.])), '오답입니다.'\n",
    "\n",
    "y = numerical_gradient(function_2, np.array([3.0, 0.0]))\n",
    "assert np.allclose(y,  np.array([6., 0.])), '오답입니다.'"
   ]
  },
  {
   "cell_type": "markdown",
   "metadata": {},
   "source": [
    "## 경사 하강법"
   ]
  },
  {
   "cell_type": "markdown",
   "metadata": {},
   "source": [
    "$$x_{0} = x_{0} - \\eta \\frac {\\partial f}{\\partial x_{0}}$$\n",
    "$$x_{1} = x_{1} - \\eta \\frac {\\partial f}{\\partial x_{1}}$$"
   ]
  },
  {
   "cell_type": "code",
   "execution_count": null,
   "metadata": {},
   "outputs": [],
   "source": [
    "def graident_descent(f, init_x, lr=0.01, step_num=100):\n",
    "    #### 시작 ####\n",
    "\n",
    "    #### 끝 ####\n",
    "    return x"
   ]
  },
  {
   "cell_type": "code",
   "execution_count": null,
   "metadata": {},
   "outputs": [],
   "source": [
    "init_x = np.array([-3.0, 4.0])\n",
    "y = graident_descent(function_2, init_x=init_x, lr=0.1, step_num=100)\n",
    "assert np.allclose(y, np.array([-6.11110793e-10,  8.14814391e-10])), '오답입니다.'"
   ]
  },
  {
   "cell_type": "markdown",
   "metadata": {},
   "source": [
    "## 2층 신경망 클래스"
   ]
  },
  {
   "cell_type": "code",
   "execution_count": null,
   "metadata": {},
   "outputs": [],
   "source": [
    "from common.functions import *\n",
    "from common.gradient import numerical_gradient\n",
    "\n",
    "class TwoLayerNet:\n",
    "    def __init__(self, input_size, hidden_size, output_size, weight_init_std=0.01):\n",
    "        #### 시작 ####\n",
    "\n",
    "        #### 끝 ####\n",
    "    \n",
    "    def predict(self, x):\n",
    "        #### 시작 ####\n",
    "\n",
    "        #### 끝 ####\n",
    "        return y\n",
    "    \n",
    "    def loss(self, x, t):\n",
    "        #### 시작 ####\n",
    "\n",
    "        #### 끝 ####\n",
    "        return cross_entropy_error(y, t)\n",
    "    \n",
    "    def accuracy(self, x, t):\n",
    "        #### 시작 ####\n",
    "\n",
    "        #### 끝 ####\n",
    "        return accuracy\n",
    "    \n",
    "    def numerical_gradient(self, x, t):\n",
    "        #### 시작 ####\n",
    "\n",
    "        #### 끝 ####\n",
    "        return grads"
   ]
  },
  {
   "cell_type": "code",
   "execution_count": null,
   "metadata": {},
   "outputs": [],
   "source": [
    "np.random.seed(42)\n",
    "\n",
    "net = TwoLayerNet(input_size=784, hidden_size=100, output_size=10)\n",
    "\n",
    "x = np.random.rand(100, 784)\n",
    "y = net.predict(x)\n",
    "assert np.allclose(y[0], np.array([0.09875959, 0.0941718 , 0.09746621, 0.10482647, 0.09399622,\n",
    "       0.09873031, 0.10032557, 0.10438459, 0.09940792, 0.10793132])), '오답입니다.'"
   ]
  }
 ],
 "metadata": {
  "kernelspec": {
   "display_name": "base",
   "language": "python",
   "name": "python3"
  },
  "language_info": {
   "codemirror_mode": {
    "name": "ipython",
    "version": 3
   },
   "file_extension": ".py",
   "mimetype": "text/x-python",
   "name": "python",
   "nbconvert_exporter": "python",
   "pygments_lexer": "ipython3",
   "version": "3.9.12"
  }
 },
 "nbformat": 4,
 "nbformat_minor": 2
}
