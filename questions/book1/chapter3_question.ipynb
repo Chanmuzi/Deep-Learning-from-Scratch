{
 "cells": [
  {
   "cell_type": "code",
   "execution_count": 1,
   "metadata": {},
   "outputs": [],
   "source": [
    "import numpy as np"
   ]
  },
  {
   "cell_type": "markdown",
   "metadata": {},
   "source": [
    "## 계단 함수"
   ]
  },
  {
   "cell_type": "code",
   "execution_count": 4,
   "metadata": {},
   "outputs": [],
   "source": [
    "def step_function(x:np.array):\n",
    "    '''\n",
    "    x가 0보다 크면 1, x가 0이하면 0을 반환하는 함수를 구현하세요.\n",
    "    array를 입력으로 제공한다는 것에 주의하세요.\n",
    "    '''\n",
    "    #### 코드 ####"
   ]
  },
  {
   "cell_type": "code",
   "execution_count": 15,
   "metadata": {},
   "outputs": [],
   "source": [
    "x = np.array([-1.2, 1.8, 2.3])\n",
    "y = step_function(x)\n",
    "assert (y == np.array([0,1,1])).all(), '오답입니다.'"
   ]
  },
  {
   "cell_type": "markdown",
   "metadata": {},
   "source": [
    "## 시그모이드"
   ]
  },
  {
   "cell_type": "code",
   "execution_count": null,
   "metadata": {},
   "outputs": [],
   "source": [
    "def sigmoid(x:np.array):\n",
    "    '''\n",
    "    시그모이드 함수를 구현하세요. 수식은 따로 제공하지 않습니다.\n",
    "    '''\n",
    "    #### 코드 ####"
   ]
  },
  {
   "cell_type": "code",
   "execution_count": null,
   "metadata": {},
   "outputs": [],
   "source": [
    "x = np.array([1.0, 2.0, 3.0])\n",
    "y = sigmoid(x)\n",
    "assert np.allclose(y,[0.73105858, 0.88079708, 0.95257413]), '오답입니다.'"
   ]
  },
  {
   "cell_type": "markdown",
   "metadata": {},
   "source": [
    "## ReLU"
   ]
  },
  {
   "cell_type": "code",
   "execution_count": null,
   "metadata": {},
   "outputs": [],
   "source": [
    "def relu(x:np.array):\n",
    "    '''\n",
    "    ReLU 함수를 구현하세요. 수식은 따로 제공되지 않습니다.\n",
    "    '''\n",
    "    #### 코드 ####"
   ]
  },
  {
   "cell_type": "code",
   "execution_count": null,
   "metadata": {},
   "outputs": [],
   "source": [
    "x = np.array([-1.2, -1.8, 2.3])\n",
    "y = relu(x)\n",
    "assert (y == np.array([0,0,2.3])).all(), '오답입니다.'"
   ]
  },
  {
   "cell_type": "markdown",
   "metadata": {},
   "source": [
    "## Softmax"
   ]
  },
  {
   "cell_type": "code",
   "execution_count": null,
   "metadata": {},
   "outputs": [],
   "source": [
    "def softmax(x):\n",
    "    '''\n",
    "    Softmax 함수를 구현하세요. 수식은 따로 제공되지 않습니다.\n",
    "    '''\n",
    "    #### 코드 ####"
   ]
  },
  {
   "cell_type": "code",
   "execution_count": null,
   "metadata": {},
   "outputs": [],
   "source": [
    "x = np.array([0.3, 2.9, 4.0])\n",
    "y = softmax(x)\n",
    "assert np.allclose(y, np.array([0.01821127, 0.24519181, 0.73659691])), '오답입니다.'"
   ]
  },
  {
   "cell_type": "code",
   "execution_count": null,
   "metadata": {},
   "outputs": [],
   "source": []
  }
 ],
 "metadata": {
  "kernelspec": {
   "display_name": "base",
   "language": "python",
   "name": "python3"
  },
  "language_info": {
   "codemirror_mode": {
    "name": "ipython",
    "version": 3
   },
   "file_extension": ".py",
   "mimetype": "text/x-python",
   "name": "python",
   "nbconvert_exporter": "python",
   "pygments_lexer": "ipython3",
   "version": "3.9.12"
  }
 },
 "nbformat": 4,
 "nbformat_minor": 2
}
